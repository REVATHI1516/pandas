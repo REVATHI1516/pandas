{
 "cells": [
  {
   "cell_type": "markdown",
   "id": "9c40d6c8",
   "metadata": {},
   "source": [
    "### 1. Create a function in python to read the text file and replace specific content of the file."
   ]
  },
  {
   "cell_type": "code",
   "execution_count": 13,
   "id": "6d648db9",
   "metadata": {},
   "outputs": [],
   "source": [
    "def replacespecificContent(search_text, replace_text):\n",
    "    \n",
    "    with open(r'example.txt', 'r') as file:\n",
    "        data = file.read()\n",
    "        data = data.replace(search_text, replace_text)\n",
    "\n",
    "    with open(r'example.txt', 'w') as file:\n",
    "        file.write(data)\n",
    "search_text = \"placement\"\n",
    "replace_text = \"screening\"\n",
    "replacespecificContent(search_text,replace_text)"
   ]
  },
  {
   "cell_type": "code",
   "execution_count": null,
   "id": "47477fa8",
   "metadata": {},
   "outputs": [],
   "source": []
  },
  {
   "cell_type": "markdown",
   "id": "3d0d9490",
   "metadata": {},
   "source": [
    "### 2. Demonstrate use of abstract class, multiple inheritance and decorator in python using examples"
   ]
  },
  {
   "cell_type": "markdown",
   "id": "dc39113d",
   "metadata": {},
   "source": [
    "#### ABSTRACT CLASS:"
   ]
  },
  {
   "cell_type": "markdown",
   "id": "00018817",
   "metadata": {},
   "source": [
    "####        \n",
    "    An abstract class can be considered as a blueprint for other classes. A class is called an Abstract class if it contains one or more abstract methods. An abstract method is a method that is declared, but contains no implementation. Abstract classes may not be instantiated, and its abstract methods must be implemented by its subclasses.\n",
    "        By defining an abstract base class, you can define a common Application Program Interface(API) for a set of subclasses. This capability is especially useful in situations where a third-party is going to provide implementations, such as with plugins, but can also help you when working in a large team or with a large code-base where keeping all classes in your mind is difficult or not possible. \n",
    "        Real life example of Abstraction:\n",
    "        Abstraction shows only important things to the user and hides the internal details for example when we ride a bike, we only know about how to ride bike but don't not know about how it work ? and also we do not know internal functionality of bike."
   ]
  },
  {
   "cell_type": "markdown",
   "id": "8a94d30f",
   "metadata": {},
   "source": [
    "#### EXAMPLE:"
   ]
  },
  {
   "cell_type": "code",
   "execution_count": 14,
   "id": "883bc137",
   "metadata": {},
   "outputs": [
    {
     "name": "stdout",
     "output_type": "stream",
     "text": [
      "I have 3 sides\n",
      "I have 4 sides\n",
      "I have 5 sides\n",
      "I have 6 sides\n"
     ]
    }
   ],
   "source": [
    "# Python program showing\n",
    "# abstract base class work\n",
    "\n",
    "from abc import ABC, abstractmethod\n",
    "\n",
    "class Polygon(ABC):\n",
    "\n",
    "    @abstractmethod\n",
    "    def noofsides(self):\n",
    "        pass\n",
    "\n",
    "class Triangle(Polygon):\n",
    "\n",
    "    # overriding abstract method\n",
    "    def noofsides(self):\n",
    "        print(\"I have 3 sides\")\n",
    "\n",
    "class Pentagon(Polygon):\n",
    "\n",
    "    # overriding abstract method\n",
    "    def noofsides(self):\n",
    "        print(\"I have 5 sides\")\n",
    "\n",
    "class Hexagon(Polygon):\n",
    "\n",
    "    # overriding abstract method\n",
    "    def noofsides(self):\n",
    "        print(\"I have 6 sides\")\n",
    "\n",
    "class Quadrilateral(Polygon):\n",
    "\n",
    "    # overriding abstract method\n",
    "    def noofsides(self):\n",
    "        print(\"I have 4 sides\")\n",
    "\n",
    "\n",
    "R = Triangle()\n",
    "R.noofsides()\n",
    "\n",
    "K = Quadrilateral()\n",
    "K.noofsides()\n",
    "\n",
    "R = Pentagon()\n",
    "R.noofsides()\n",
    "\n",
    "K = Hexagon()\n",
    "K.noofsides()\n"
   ]
  },
  {
   "cell_type": "markdown",
   "id": "950b04ab",
   "metadata": {},
   "source": [
    "#### MULTIPLE INHERITANCE :"
   ]
  },
  {
   "cell_type": "markdown",
   "id": "2f8bab6e",
   "metadata": {},
   "source": [
    "#### \n",
    "    When a class is derived from more than one base class it is called multiple Inheritance. The derived class inherits all the features of the base case.It allows a class to inherit the functionality of more than one base class; thus allowing for modeling of complex relationships.By having multiple superclasses, your subclass has more opportunities to reuse the inherited attributes and operations of the superclasses.Real Time Examples of Multiple Inheritance:\n",
    "                   - Storing a student’s data.\n",
    "                   - Filling taxes and applying deductions.\n",
    "    "
   ]
  },
  {
   "cell_type": "markdown",
   "id": "8d6d0e39",
   "metadata": {},
   "source": [
    "#### EXAMPLE:"
   ]
  },
  {
   "cell_type": "code",
   "execution_count": 15,
   "id": "2d5501cb",
   "metadata": {},
   "outputs": [
    {
     "name": "stdout",
     "output_type": "stream",
     "text": [
      "In Class4\n",
      "In Class2\n",
      "In Class3\n",
      "In Class1\n"
     ]
    }
   ],
   "source": [
    "class Class1:\n",
    "    def method1(self):\n",
    "        print(\"In Class1\")\n",
    "\n",
    "class Class2(Class1):\n",
    "    def method1(self):\n",
    "        print(\"In Class2\")\n",
    "\n",
    "class Class3(Class1):\n",
    "    def method1(self):\n",
    "        print(\"In Class3\")\n",
    "\n",
    "class Class4(Class2, Class3):\n",
    "    def method1(self):\n",
    "        print(\"In Class4\")\n",
    "\n",
    "obj = Class4()\n",
    "obj.method1()\n",
    "\n",
    "Class2.method1(obj)\n",
    "Class3.method1(obj)\n",
    "Class1.method1(obj)\n"
   ]
  },
  {
   "cell_type": "markdown",
   "id": "358db489",
   "metadata": {},
   "source": [
    "#### DECORATOR:"
   ]
  },
  {
   "cell_type": "markdown",
   "id": "2098409a",
   "metadata": {},
   "source": [
    "#### \n",
    "    Decorators are a very powerful and useful tool in Python since it allows programmers to modify the behaviour of function or class. Decorators allow us to wrap another function in order to extend the behaviour of the wrapped function, without permanently modifying it.In Decorators, functions are taken as the argument into another function and then called inside the wrapper function.A few good examples are when you want to add logging, test performance, perform caching, verify permissions, and so on.You can also use one when you need to run the same code on multiple functions. This avoids you writing duplicating code."
   ]
  },
  {
   "cell_type": "markdown",
   "id": "9d1b598c",
   "metadata": {},
   "source": [
    "#### EXAMPLE:"
   ]
  },
  {
   "cell_type": "code",
   "execution_count": 4,
   "id": "dd486b48",
   "metadata": {},
   "outputs": [
    {
     "name": "stdout",
     "output_type": "stream",
     "text": [
      "Hello, this is before function execution\n",
      "This is inside the inner1 function......\n",
      "This is after function execution\n"
     ]
    }
   ],
   "source": [
    "def hello_decorator(func):\n",
    "    \n",
    "    def inner1():\n",
    "        print(\"Hello, this is before function execution\")\n",
    "        func()\n",
    "        print(\"This is after function execution\")\n",
    "    return inner1()\n",
    "@hello_decorator\n",
    "def function_to_be_used():\n",
    "    print(\"This is inside the inner1 function......\")"
   ]
  },
  {
   "cell_type": "code",
   "execution_count": null,
   "id": "709f17f9",
   "metadata": {},
   "outputs": [],
   "source": []
  }
 ],
 "metadata": {
  "kernelspec": {
   "display_name": "Python 3",
   "language": "python",
   "name": "python3"
  },
  "language_info": {
   "codemirror_mode": {
    "name": "ipython",
    "version": 3
   },
   "file_extension": ".py",
   "mimetype": "text/x-python",
   "name": "python",
   "nbconvert_exporter": "python",
   "pygments_lexer": "ipython3",
   "version": "3.8.8"
  }
 },
 "nbformat": 4,
 "nbformat_minor": 5
}
